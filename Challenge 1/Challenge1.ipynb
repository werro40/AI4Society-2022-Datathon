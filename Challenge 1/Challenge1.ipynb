{
  "nbformat": 4,
  "nbformat_minor": 0,
  "metadata": {
    "colab": {
      "name": "Challenge1.ipynb",
      "provenance": [],
      "collapsed_sections": [
        "1K6QgKzUG2wb"
      ]
    },
    "kernelspec": {
      "name": "python3",
      "display_name": "Python 3"
    },
    "language_info": {
      "name": "python"
    }
  },
  "cells": [
    {
      "cell_type": "code",
      "execution_count": null,
      "metadata": {
        "id": "gIxODdzT9RuG"
      },
      "outputs": [],
      "source": [
        "import pandas as pd\n",
        "import numpy as np\n",
        "import matplotlib.pyplot as plt\n",
        "import tensorflow as tf\n",
        "import scipy\n",
        "from scipy.fft import fft, ifft"
      ]
    },
    {
      "cell_type": "markdown",
      "source": [
        "#importing All the data"
      ],
      "metadata": {
        "id": "-EbKmWBcQP7x"
      }
    },
    {
      "cell_type": "code",
      "source": [
        "from scipy.optimize import curve_fit"
      ],
      "metadata": {
        "id": "t73dvYwEBAJ-"
      },
      "execution_count": null,
      "outputs": []
    },
    {
      "cell_type": "code",
      "source": [
        "from sklearn import linear_model"
      ],
      "metadata": {
        "id": "bcVBPhzbpUmc"
      },
      "execution_count": null,
      "outputs": []
    },
    {
      "cell_type": "code",
      "source": [
        "wells = []\n",
        "for i in range(1,10):\n",
        "  wells.append(pd.read_csv (r'/content/drive/MyDrive/datathon2/kaggleDataset/train/{int}/wells_info.csv'.format(int=i)))"
      ],
      "metadata": {
        "id": "i5zmBW3sC8Tx"
      },
      "execution_count": null,
      "outputs": []
    },
    {
      "cell_type": "code",
      "source": [
        "rp = []\n",
        "for i in range(1,10):\n",
        "  rp.append(pd.read_csv (r'/content/drive/MyDrive/datathon2/kaggleDataset/train/{int}/rate_and_pressure.csv'.format(int=i)))"
      ],
      "metadata": {
        "id": "6rqL4EcaIT_9"
      },
      "execution_count": null,
      "outputs": []
    },
    {
      "cell_type": "code",
      "source": [
        "exp = []\n",
        "for i in range(1,10):\n",
        "  exp.append(pd.read_csv (r'/content/drive/MyDrive/datathon2/kaggleDataset/train/{int}/expected_output.csv'.format(int=i)))"
      ],
      "metadata": {
        "id": "6hoT5I2lI136"
      },
      "execution_count": null,
      "outputs": []
    },
    {
      "cell_type": "markdown",
      "source": [
        "Exploratory Data Analysis"
      ],
      "metadata": {
        "id": "4kA2xdx8QUqB"
      }
    },
    {
      "cell_type": "code",
      "source": [
        "type(wells[0]['permeability'][55])\n"
      ],
      "metadata": {
        "colab": {
          "base_uri": "https://localhost:8080/"
        },
        "id": "KIC6WyQc1Xbt",
        "outputId": "d42a7b5d-75e1-4586-aebc-663dcfaf3d90"
      },
      "execution_count": null,
      "outputs": [
        {
          "output_type": "execute_result",
          "data": {
            "text/plain": [
              "numpy.float64"
            ]
          },
          "metadata": {},
          "execution_count": 127
        }
      ]
    },
    {
      "cell_type": "code",
      "source": [
        "#x-y coordinates are the same\n",
        "sum([np.array(rp[4]['injector-3-pressure']),np.array(rp[4]['injector-3-pressure'])])/2"
      ],
      "metadata": {
        "id": "liAjvIVtJH5r"
      },
      "execution_count": null,
      "outputs": []
    },
    {
      "cell_type": "code",
      "source": [
        "for df in rp[4]:\n",
        "  plt.figure()\n",
        "  plt.plot(t,rp[4][df])"
      ],
      "metadata": {
        "id": "KEvLWmBaJLgB"
      },
      "execution_count": null,
      "outputs": []
    },
    {
      "cell_type": "code",
      "source": [
        "#features dynamic\n",
        "prodQ=[]\n",
        "pressQ=[]\n",
        "for j in rp:\n",
        "  apress = []\n",
        "  aprod=[]\n",
        "  for df in j:\n",
        "    if df.find(\"production\") == -1:\n",
        "      apress.append(np.array(j[df]))\n",
        "    if df.find(\"production\") != -1:\n",
        "      aprod.append(np.array(j[df]))\n",
        "  prodQ.append(sum(aprod)/len(aprod))\n",
        "  pressQ.append(sum(apress)/len(apress))"
      ],
      "metadata": {
        "id": "h-SHLPQu6fWP"
      },
      "execution_count": null,
      "outputs": []
    },
    {
      "cell_type": "code",
      "source": [
        "plt.plot(t,1*prodQ[0])"
      ],
      "metadata": {
        "colab": {
          "base_uri": "https://localhost:8080/",
          "height": 282
        },
        "id": "WgC0ejUU_YpF",
        "outputId": "6e1ded15-15dc-4af1-db3d-0c376fb1c3de"
      },
      "execution_count": null,
      "outputs": [
        {
          "output_type": "execute_result",
          "data": {
            "text/plain": [
              "[<matplotlib.lines.Line2D at 0x7f9c7e7d0890>]"
            ]
          },
          "metadata": {},
          "execution_count": 115
        },
        {
          "output_type": "display_data",
          "data": {
            "text/plain": [
              "<Figure size 432x288 with 1 Axes>"
            ],
            "image/png": "[encoded data removed]"
          },
          "metadata": {
            "needs_background": "light"
          }
        }
      ]
    },
    {
      "cell_type": "code",
      "source": [
        "5"
      ],
      "metadata": {
        "id": "1rLpjwIdAPFU"
      },
      "execution_count": null,
      "outputs": []
    },
    {
      "cell_type": "code",
      "source": [
        "t=exp[2][\"timestep\"]\n",
        "y = fit(t,expQ25[2][0],expQ25[2][1],expQ25[2][2],expQ25[2][3])\n",
        "plt.plot(t,data-y)"
      ],
      "metadata": {
        "id": "TbhRhGOGJag1"
      },
      "execution_count": null,
      "outputs": []
    },
    {
      "cell_type": "code",
      "source": [
        "plt.hist(data-y,bins=30)"
      ],
      "metadata": {
        "id": "Hp8XxgNPmYP0"
      },
      "execution_count": null,
      "outputs": []
    },
    {
      "cell_type": "code",
      "source": [
        "sum(abs(y-data))/364"
      ],
      "metadata": {
        "colab": {
          "base_uri": "https://localhost:8080/"
        },
        "id": "p77Ahh1QnOde",
        "outputId": "2ff54453-c4e4-4ca5-a091-836c70114d15"
      },
      "execution_count": null,
      "outputs": [
        {
          "output_type": "execute_result",
          "data": {
            "text/plain": [
              "98.7247185786611"
            ]
          },
          "metadata": {},
          "execution_count": 29
        }
      ]
    },
    {
      "cell_type": "code",
      "source": [
        "n=np.random.normal(loc=0,scale=70,size=365)"
      ],
      "metadata": {
        "id": "qom0er-VnFjj"
      },
      "execution_count": null,
      "outputs": []
    },
    {
      "cell_type": "code",
      "source": [
        "def fit(x,a,b,c,d):\n",
        "    return a/(x+0.01)+b+c*x+d*x**2"
      ],
      "metadata": {
        "id": "jvSdZv_tcLoC"
      },
      "execution_count": null,
      "outputs": []
    },
    {
      "cell_type": "code",
      "source": [
        "#labels\n",
        "expQ19=[]\n",
        "expQ20=[]\n",
        "expQ24=[]\n",
        "expQ25=[]\n",
        "for i in exp:\n",
        "  data19 = np.array(i[\"producer-19-production\"])\n",
        "  data20 = np.array(i[\"producer-20-production\"])\n",
        "  data24 = np.array(i[\"producer-24-production\"])\n",
        "  data25 = np.array(i[\"producer-25-production\"])\n",
        "  p19,cov = curve_fit(fit,i[\"timestep\"],smoothing(data19,20))\n",
        "  p20,cov = curve_fit(fit,i[\"timestep\"],smoothing(data20,20))\n",
        "  p24,cov = curve_fit(fit,i[\"timestep\"],smoothing(data24,20))\n",
        "  p25,cov = curve_fit(fit,i[\"timestep\"],smoothing(data25,20))\n",
        "  expQ19.append(p19)\n",
        "  expQ20.append(p20)\n",
        "  expQ24.append(p24)\n",
        "  expQ25.append(p25)\n"
      ],
      "metadata": {
        "id": "nYcmpRt_Ny90"
      },
      "execution_count": null,
      "outputs": []
    },
    {
      "cell_type": "code",
      "source": [
        "#producing length 7 features\n",
        "#labels\n",
        "fQ19=[]\n",
        "fQ20=[]\n",
        "fQ24=[]\n",
        "fQ25=[]\n",
        "for i in range(len(prodQ)):\n",
        "  data19 = np.array(rp[i]['producer-19-pressure'])\n",
        "  data20 = np.array(rp[i]['producer-20-pressure'])\n",
        "  data24 = np.array(rp[i]['producer-24-pressure'])\n",
        "  data25 = np.array(rp[i]['producer-25-pressure'])\n",
        "  p19,cov = curve_fit(fit,t,smoothing(data19,20))\n",
        "  p20,cov = curve_fit(fit,t,smoothing(data20,20))\n",
        "  p24,cov = curve_fit(fit,t,smoothing(data24,20))\n",
        "  p25,cov = curve_fit(fit,t,smoothing(data25,20))\n",
        "  p19 = np.append(p19,[wells[i]['permeability'][55],wells[i]['porosity'][55],wells[i]['thickness'][55]])\n",
        "  p20 = np.append(p20,[wells[i]['permeability'][56],wells[i]['porosity'][56],wells[i]['thickness'][56]])\n",
        "  p24 = np.append(p24,[wells[i]['permeability'][59],wells[i]['porosity'][59],wells[i]['thickness'][59]])\n",
        "  p25 = np.append(p25,[wells[i]['permeability'][60],wells[i]['porosity'][60],wells[i]['thickness'][60]])\n",
        "  fQ19.append(p19)\n",
        "  fQ20.append(p20)\n",
        "  fQ24.append(p24)\n",
        "  fQ25.append(p25)"
      ],
      "metadata": {
        "id": "-p8-ANQHQta6"
      },
      "execution_count": null,
      "outputs": []
    },
    {
      "cell_type": "code",
      "source": [
        "fQ=np.array(fQ19+fQ20+fQ24+fQ25)\n",
        "expQ=np.array(expQ19+expQ20+expQ24+expQ25)"
      ],
      "metadata": {
        "id": "c9NrZUeSXXFG"
      },
      "execution_count": null,
      "outputs": []
    },
    {
      "cell_type": "code",
      "source": [
        "a = np.array([1,2,3])\n",
        "b=np.array([1])\n",
        "np.append(a,b)"
      ],
      "metadata": {
        "colab": {
          "base_uri": "https://localhost:8080/"
        },
        "id": "UmgruLGESd0I",
        "outputId": "3f8b4873-0f28-44ed-c7b7-8469ccf652b6"
      },
      "execution_count": null,
      "outputs": [
        {
          "output_type": "execute_result",
          "data": {
            "text/plain": [
              "array([1, 2, 3, 1])"
            ]
          },
          "metadata": {},
          "execution_count": 118
        }
      ]
    },
    {
      "cell_type": "code",
      "source": [
        "expQ19[0]"
      ],
      "metadata": {
        "colab": {
          "base_uri": "https://localhost:8080/"
        },
        "id": "IK_ct-ahP_vY",
        "outputId": "a49c1aff-c0bf-4e07-d59a-da9a23791751"
      },
      "execution_count": null,
      "outputs": [
        {
          "output_type": "execute_result",
          "data": {
            "text/plain": [
              "array([ 3.35684875e+01,  3.01890638e+03, -1.11255026e+01,  2.20263616e-02])"
            ]
          },
          "metadata": {},
          "execution_count": 114
        }
      ]
    },
    {
      "cell_type": "code",
      "source": [
        "sum(wells[1]['porosity'])/61"
      ],
      "metadata": {
        "colab": {
          "base_uri": "https://localhost:8080/"
        },
        "id": "zIe5_4S7yv_u",
        "outputId": "62e38aa2-19f7-4882-b370-28a34259a4dc"
      },
      "execution_count": null,
      "outputs": [
        {
          "output_type": "execute_result",
          "data": {
            "text/plain": [
              "0.2811452741652798"
            ]
          },
          "metadata": {},
          "execution_count": 51
        }
      ]
    },
    {
      "cell_type": "code",
      "source": [
        "wellsQ = []\n",
        "for i in wells:\n",
        "  np.array([sum(i['porosity'])/61,sum(i['permeability'])/61,sum(i['thickness'])/61])"
      ],
      "metadata": {
        "id": "-ac0mVemSSIN"
      },
      "execution_count": null,
      "outputs": []
    },
    {
      "cell_type": "code",
      "source": [
        "plt.plot(exp[2][\"timestep\"][1:],1*np.exp(np.array(smoothing(data,20)[1:])**-2))"
      ],
      "metadata": {
        "colab": {
          "base_uri": "https://localhost:8080/",
          "height": 293
        },
        "id": "2-DcMfQqOyIz",
        "outputId": "133aab87-ed61-44ad-c683-eb49791a03c9"
      },
      "execution_count": null,
      "outputs": [
        {
          "output_type": "execute_result",
          "data": {
            "text/plain": [
              "[<matplotlib.lines.Line2D at 0x7ff7796e8590>]"
            ]
          },
          "metadata": {},
          "execution_count": 90
        },
        {
          "output_type": "display_data",
          "data": {
            "text/plain": [
              "<Figure size 432x288 with 1 Axes>"
            ],
            "image/png": "[encoded data removed]"
          },
          "metadata": {
            "needs_background": "light"
          }
        }
      ]
    },
    {
      "cell_type": "code",
      "source": [
        "plt.hist(abs(fft(data-smoothing(data,20))),bins=100)"
      ],
      "metadata": {
        "id": "Z2LkVmNCNLqI"
      },
      "execution_count": null,
      "outputs": []
    },
    {
      "cell_type": "code",
      "source": [
        "def filterN(data,cutoff1,cutoff2):\n",
        "  filterLP = np.zeros(len(data))\n",
        "  for i in range(cutoff1,cutoff2):\n",
        "    filterLP[i]=1\n",
        "  return ifft(filterLP*fft(data))"
      ],
      "metadata": {
        "id": "rVXXcac5Kh9c"
      },
      "execution_count": null,
      "outputs": []
    },
    {
      "cell_type": "code",
      "source": [
        "def smoothing(series,n):\n",
        "  data=[]\n",
        "  for i in range(n):\n",
        "    data.append(series[i])\n",
        "  for i in range(n,len(series)-n):\n",
        "    data.append(sum(series[i:i+n])/n)\n",
        "  for i in range(len(series)-n+1,len(series)):\n",
        "    data.append(series[i])  \n",
        "  data.append(series[-1])\n",
        "  return data"
      ],
      "metadata": {
        "id": "MCSbNxM7K8vr"
      },
      "execution_count": null,
      "outputs": []
    },
    {
      "cell_type": "markdown",
      "source": [
        "#Prediction"
      ],
      "metadata": {
        "id": "1K6QgKzUG2wb"
      }
    },
    {
      "cell_type": "code",
      "source": [
        "wellstest = pd.read_csv (r'/content/drive/MyDrive/datathon2/kaggleDataset/test/wells_info.csv')\n",
        "rptest = pd.read_csv (r'/content/drive/MyDrive/datathon2/kaggleDataset/test/rate_and_pressure.csv')"
      ],
      "metadata": {
        "id": "CEvwfru6MN-h"
      },
      "execution_count": null,
      "outputs": []
    },
    {
      "cell_type": "code",
      "source": [
        "aprod=[]\n",
        "for df in rptest:\n",
        "    if df.find(\"production\") != -1:\n",
        "      aprod.append(np.array(rptest[df]))\n",
        "prodtest = sum(aprod)/len(aprod)"
      ],
      "metadata": {
        "id": "8K-OGrAjZn_M"
      },
      "execution_count": null,
      "outputs": []
    },
    {
      "cell_type": "code",
      "source": [
        "  data19 = np.array(rptest['producer-19-pressure'])\n",
        "  data20 = np.array(rptest['producer-20-pressure'])\n",
        "  data24 = np.array(rptest['producer-24-pressure'])\n",
        "  data25 = np.array(rptest['producer-25-pressure'])\n",
        "  p19,cov = curve_fit(fit,t,smoothing(data19,20))\n",
        "  p20,cov = curve_fit(fit,t,smoothing(data20,20))\n",
        "  p24,cov = curve_fit(fit,t,smoothing(data24,20))\n",
        "  p25,cov = curve_fit(fit,t,smoothing(data25,20))\n",
        "  p19 = np.append(p19,[wellstest['permeability'][55],wellstest['porosity'][55],wellstest['thickness'][55]])\n",
        "  p20 = np.append(p20,[wellstest['permeability'][56],wellstest['porosity'][56],wellstest['thickness'][56]])\n",
        "  p24 = np.append(p24,[wellstest['permeability'][59],wellstest['porosity'][59],wellstest['thickness'][59]])\n",
        "  p25 = np.append(p25,[wellstest['permeability'][60],wellstest['porosity'][60],wellstest['thickness'][60]])"
      ],
      "metadata": {
        "id": "4XWV-R55j8e-"
      },
      "execution_count": null,
      "outputs": []
    },
    {
      "cell_type": "code",
      "source": [
        "ptest,cov = curve_fit(fit,t,smoothing(prodtest,20))\n",
        "ptest19 = np.append(ptest,[wellstest['permeability'][55],wellstest['porosity'][55],wellstest['thickness'][55]])\n",
        "ptest20 = np.append(ptest,[wellstest['permeability'][56],wellstest['porosity'][56],wellstest['thickness'][56]])\n",
        "ptest24 = np.append(ptest,[wellstest['permeability'][59],wellstest['porosity'][59],wellstest['thickness'][59]])\n",
        "ptest25 = np.append(ptest,[wellstest['permeability'][60],wellstest['porosity'][60],wellstest['thickness'][60]])"
      ],
      "metadata": {
        "id": "Y3C-DNHCac2W"
      },
      "execution_count": null,
      "outputs": []
    },
    {
      "cell_type": "code",
      "source": [
        "p = [p19.tolist(),p20.tolist(),p24.tolist(),p25.tolist()]"
      ],
      "metadata": {
        "id": "YwlQ4PkNbg_8"
      },
      "execution_count": null,
      "outputs": []
    },
    {
      "cell_type": "code",
      "source": [
        "p"
      ],
      "metadata": {
        "colab": {
          "base_uri": "https://localhost:8080/"
        },
        "id": "DkqN1V5bbq4D",
        "outputId": "a27ba5ea-34b7-4b2f-a804-0e224d18a0d3"
      },
      "execution_count": null,
      "outputs": [
        {
          "output_type": "execute_result",
          "data": {
            "text/plain": [
              "[[-0.3340598684471098,\n",
              "  5007.737915653242,\n",
              "  -0.057875968424204276,\n",
              "  8.52869485088806e-05,\n",
              "  10.7510156655431,\n",
              "  0.291264686946944,\n",
              "  61.1665146295728],\n",
              " [-1.2117026678678229,\n",
              "  5004.773082347564,\n",
              "  -0.08290326933963463,\n",
              "  0.0002934356094376209,\n",
              "  10.0483276043624,\n",
              "  0.285282915487243,\n",
              "  41.9791116966117],\n",
              " [0.5607381917757825,\n",
              "  5006.078983252644,\n",
              "  -0.11309146731960694,\n",
              "  0.00028524055578479446,\n",
              "  13.395438305724,\n",
              "  0.310726102294453,\n",
              "  55.0836131868097],\n",
              " [-0.3202944239666002,\n",
              "  5002.3669621267545,\n",
              "  -0.0486123284824139,\n",
              "  6.983452108728749e-05,\n",
              "  10.4762232546732,\n",
              "  0.288973360119767,\n",
              "  61.4215965939146]]"
            ]
          },
          "metadata": {},
          "execution_count": 193
        }
      ]
    },
    {
      "cell_type": "code",
      "source": [
        "X = fQ\n",
        "y = expQ\n",
        "\n",
        "regr = linear_model.LassoLars(alpha=.3, normalize=False)\n",
        "regr.fit(X, y)\n",
        "\n",
        "#predict the CO2 emission of a car where the weight is 2300kg, and the volume is 1300cm3:\n",
        "pred = regr.predict(p)\n",
        "\n",
        "y=[]\n",
        "for i in range(4):\n",
        "  y.append(fit(t,pred[i][0],pred[i][1],pred[0][2],pred[0][3]))\n",
        "createSubmission('greatestattempt', np.array(y[0]), np.array(y[1]), np.array(y[2]), np.array(y[3]))"
      ],
      "metadata": {
        "id": "fAwfWDhGG5MR"
      },
      "execution_count": null,
      "outputs": []
    },
    {
      "cell_type": "code",
      "source": [
        ""
      ],
      "metadata": {
        "id": "NgcfrggEh6DX"
      },
      "execution_count": null,
      "outputs": []
    },
    {
      "cell_type": "code",
      "source": [
        ""
      ],
      "metadata": {
        "id": "_gHWEv5hIRYj"
      },
      "execution_count": null,
      "outputs": []
    },
    {
      "cell_type": "code",
      "source": [
        "\n"
      ],
      "metadata": {
        "colab": {
          "base_uri": "https://localhost:8080/"
        },
        "id": "1xKzO3XLISKt",
        "outputId": "c1381aaf-7406-4729-cf69-17284a6114e6"
      },
      "execution_count": null,
      "outputs": [
        {
          "output_type": "execute_result",
          "data": {
            "text/plain": [
              "[0      6690.203555\n",
              " 1      3366.436637\n",
              " 2      3337.536394\n",
              " 3      3319.630957\n",
              " 4      3304.531118\n",
              "           ...     \n",
              " 360    1993.326718\n",
              " 361    1998.335498\n",
              " 362    2003.392844\n",
              " 363    2008.498758\n",
              " 364    2013.653240\n",
              " Name: timestep, Length: 365, dtype: float64, 0      6848.322274\n",
              " 1      3152.342222\n",
              " 2      3121.590172\n",
              " 3      3103.063364\n",
              " 4      3087.652066\n",
              "           ...     \n",
              " 360    1775.520614\n",
              " 361    1780.529364\n",
              " 362    1785.586682\n",
              " 363    1790.692567\n",
              " 364    1795.847020\n",
              " Name: timestep, Length: 365, dtype: float64, 0      6354.752251\n",
              " 1      3401.843493\n",
              " 2      3374.788315\n",
              " 3      3357.501986\n",
              " 4      3342.712474\n",
              "           ...     \n",
              " 360    2032.431751\n",
              " 361    2037.440559\n",
              " 362    2042.497935\n",
              " 363    2047.603877\n",
              " 364    2052.758387\n",
              " Name: timestep, Length: 365, dtype: float64, 0      6715.900242\n",
              " 1      3354.115903\n",
              " 2      3325.026518\n",
              " 3      3307.057615\n",
              " 4      3291.925964\n",
              "           ...     \n",
              " 360    1980.626876\n",
              " 361    1985.635652\n",
              " 362    1990.692996\n",
              " 363    1995.798907\n",
              " 364    2000.953386\n",
              " Name: timestep, Length: 365, dtype: float64]"
            ]
          },
          "metadata": {},
          "execution_count": 156
        }
      ]
    },
    {
      "cell_type": "code",
      "source": [
        "import pandas as pd\n",
        "from itertools import product\n",
        "import numpy as np\n",
        "\n",
        "def createSubmission(fileName, data19, data20, data24, data25):\n",
        "    # data[X] should correspond to well [X]\n",
        "    dataMatrix = np.zeros([365,4])\n",
        "    dataMatrix[:,0] = data19[:]\n",
        "    dataMatrix[:,1] = data20[:]\n",
        "    dataMatrix[:,2] = data24[:]\n",
        "    dataMatrix[:,3] = data25[:]\n",
        "    id = []\n",
        "    pred = []\n",
        "    wellID = [19,20,24,25]\n",
        "    for wellInd, dayVal in product(range(4),range(365)):\n",
        "        id.append(f\"{wellID[wellInd]}-{dayVal}\")\n",
        "        pred.append(dataMatrix[dayVal][wellInd])\n",
        "\n",
        "    output = pd.DataFrame({\n",
        "        \"Id\": id,\n",
        "        \"Predicted\": pred\n",
        "    })\n",
        "\n",
        "    output.to_csv(fileName,index=False)\n"
      ],
      "metadata": {
        "id": "2Rp1qggVc0ty"
      },
      "execution_count": null,
      "outputs": []
    },
    {
      "cell_type": "code",
      "source": [
        ""
      ],
      "metadata": {
        "id": "befkGnjRdpm5"
      },
      "execution_count": null,
      "outputs": []
    },
    {
      "cell_type": "code",
      "source": [
        ""
      ],
      "metadata": {
        "id": "iacw2huSd58b"
      },
      "execution_count": null,
      "outputs": []
    }
  ]
}